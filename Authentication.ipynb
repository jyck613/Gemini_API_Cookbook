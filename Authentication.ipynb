{
  "nbformat": 4,
  "nbformat_minor": 0,
  "metadata": {
    "colab": {
      "provenance": [],
      "authorship_tag": "ABX9TyPmu7uXRTyahR3IYny9Q1hE",
      "include_colab_link": true
    },
    "kernelspec": {
      "name": "python3",
      "display_name": "Python 3"
    },
    "language_info": {
      "name": "python"
    }
  },
  "cells": [
    {
      "cell_type": "markdown",
      "metadata": {
        "id": "view-in-github",
        "colab_type": "text"
      },
      "source": [
        "<a href=\"https://colab.research.google.com/github/jyck613/Gemini_API_Cookbook/blob/main/Authentication.ipynb\" target=\"_parent\"><img src=\"https://colab.research.google.com/assets/colab-badge.svg\" alt=\"Open In Colab\"/></a>"
      ]
    },
    {
      "cell_type": "code",
      "execution_count": 1,
      "metadata": {
        "id": "e8wrV23iefF2"
      },
      "outputs": [],
      "source": [
        "!pip install -U -q \"google-generativeai>=0.7.2\""
      ]
    },
    {
      "cell_type": "code",
      "source": [
        "import google.generativeai as genai\n",
        "from google.colab import userdata\n",
        "\n",
        "GOOGLE_API_KEY=userdata.get('GOOGLE_API_KEY')\n",
        "genai.configure(api_key=GOOGLE_API_KEY)"
      ],
      "metadata": {
        "id": "EqPeEnvSfZWd"
      },
      "execution_count": 2,
      "outputs": []
    },
    {
      "cell_type": "code",
      "source": [
        "model = genai.GenerativeModel('models/gemini-1.5-flash')\n",
        "response = model.generate_content(\"Please give me python code to sort a list.\")\n",
        "print(response.text)"
      ],
      "metadata": {
        "colab": {
          "base_uri": "https://localhost:8080/",
          "height": 992
        },
        "collapsed": true,
        "id": "Qo7GfKvGgTxq",
        "outputId": "41688a57-f80b-42c9-8338-0240cb37c008"
      },
      "execution_count": 3,
      "outputs": [
        {
          "output_type": "stream",
          "name": "stdout",
          "text": [
            "Python offers several ways to sort a list. Here are a few examples, showcasing different methods and their nuances:\n",
            "\n",
            "**Method 1: Using the `list.sort()` method (in-place sorting)**\n",
            "\n",
            "This method modifies the original list directly.  It doesn't return a new sorted list.\n",
            "\n",
            "```python\n",
            "my_list = [3, 1, 4, 1, 5, 9, 2, 6]\n",
            "my_list.sort()\n",
            "print(my_list)  # Output: [1, 1, 2, 3, 4, 5, 6, 9]\n",
            "```\n",
            "\n",
            "**Method 2: Using the `sorted()` function (creates a new sorted list)**\n",
            "\n",
            "This function creates a *new* sorted list, leaving the original list unchanged.\n",
            "\n",
            "```python\n",
            "my_list = [3, 1, 4, 1, 5, 9, 2, 6]\n",
            "sorted_list = sorted(my_list)\n",
            "print(my_list)      # Output: [3, 1, 4, 1, 5, 9, 2, 6] (original list unchanged)\n",
            "print(sorted_list)  # Output: [1, 1, 2, 3, 4, 5, 6, 9] (new sorted list)\n",
            "```\n",
            "\n",
            "**Method 3: Sorting with a custom key (for more complex sorting)**\n",
            "\n",
            "You can specify a `key` function to sort based on a specific attribute or transformation of the list elements.  This is useful for sorting objects or based on a specific criteria.\n",
            "\n",
            "```python\n",
            "data = [('apple', 5), ('banana', 2), ('cherry', 8)]\n",
            "\n",
            "# Sort by the second element (the number)\n",
            "sorted_data = sorted(data, key=lambda item: item[1])\n",
            "print(sorted_data)  # Output: [('banana', 2), ('apple', 5), ('cherry', 8)]\n",
            "\n",
            "#Sort by the length of the string\n",
            "sorted_data_by_length = sorted(data, key = lambda item: len(item[0]))\n",
            "print(sorted_data_by_length) # Output: [('apple', 5), ('banana', 2), ('cherry', 8)]\n",
            "\n",
            "```\n",
            "\n",
            "**Method 4:  Reverse sorting**\n",
            "\n",
            "Both `list.sort()` and `sorted()` accept a `reverse=True` argument to sort in descending order.\n",
            "\n",
            "```python\n",
            "my_list = [3, 1, 4, 1, 5, 9, 2, 6]\n",
            "my_list.sort(reverse=True)\n",
            "print(my_list)  # Output: [9, 6, 5, 4, 3, 2, 1, 1]\n",
            "\n",
            "sorted_list = sorted(my_list, reverse=True)\n",
            "print(sorted_list) # Output: [9, 6, 5, 4, 3, 2, 1, 1]\n",
            "```\n",
            "\n",
            "Choose the method that best suits your needs.  If you need to modify the original list in place, use `list.sort()`. If you need to preserve the original list, use `sorted()`.  Use the `key` argument for more sophisticated sorting criteria. Remember that `sorted()` works on any iterable, not just lists, while `list.sort()` is a method specific to lists.\n",
            "\n"
          ]
        }
      ]
    }
  ]
}